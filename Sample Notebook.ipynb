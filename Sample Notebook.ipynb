{
 "cells": [
  {
   "cell_type": "code",
   "execution_count": 4,
   "metadata": {},
   "outputs": [],
   "source": [
    "import analyzeHL7 as a"
   ]
  },
  {
   "cell_type": "code",
   "execution_count": 5,
   "metadata": {},
   "outputs": [],
   "source": [
    "df = a.A03df(\".\")"
   ]
  },
  {
   "cell_type": "markdown",
   "metadata": {},
   "source": [
    "This is what a sample HL7 file looks like (from: "
   ]
  },
  {
   "cell_type": "code",
   "execution_count": 7,
   "metadata": {},
   "outputs": [
    {
     "data": {
      "text/html": [
       "<div>\n",
       "<style scoped>\n",
       "    .dataframe tbody tr th:only-of-type {\n",
       "        vertical-align: middle;\n",
       "    }\n",
       "\n",
       "    .dataframe tbody tr th {\n",
       "        vertical-align: top;\n",
       "    }\n",
       "\n",
       "    .dataframe thead th {\n",
       "        text-align: right;\n",
       "    }\n",
       "</style>\n",
       "<table border=\"1\" class=\"dataframe\">\n",
       "  <thead>\n",
       "    <tr style=\"text-align: right;\">\n",
       "      <th></th>\n",
       "      <th>facility_name</th>\n",
       "      <th>message_date_time</th>\n",
       "      <th>message_type</th>\n",
       "      <th>control_id</th>\n",
       "      <th>last_name</th>\n",
       "      <th>first_name</th>\n",
       "      <th>middle_name</th>\n",
       "      <th>date_of_birth</th>\n",
       "      <th>gender</th>\n",
       "      <th>zip_code</th>\n",
       "      <th>common_key</th>\n",
       "      <th>patient_class</th>\n",
       "      <th>service_type</th>\n",
       "      <th>admit_source</th>\n",
       "      <th>admit_date_time</th>\n",
       "      <th>discharge_date_time</th>\n",
       "      <th>dx</th>\n",
       "    </tr>\n",
       "  </thead>\n",
       "  <tbody>\n",
       "    <tr>\n",
       "      <th>test-6.hl7</th>\n",
       "      <td>02.16.840.1.113883.3.1738.2</td>\n",
       "      <td>20200706190228</td>\n",
       "      <td>ADT^A03</td>\n",
       "      <td>39867298</td>\n",
       "      <td>_______</td>\n",
       "      <td>______</td>\n",
       "      <td>_</td>\n",
       "      <td>________</td>\n",
       "      <td>F</td>\n",
       "      <td>49660</td>\n",
       "      <td>None</td>\n",
       "      <td>O</td>\n",
       "      <td></td>\n",
       "      <td></td>\n",
       "      <td>20200702982500</td>\n",
       "      <td>20200707190226</td>\n",
       "      <td>J02.0,H10.33,J30.1,58</td>\n",
       "    </tr>\n",
       "    <tr>\n",
       "      <th>test-4.hl7</th>\n",
       "      <td>99.16.840.1.113883.3.1738.2</td>\n",
       "      <td>20200706190228</td>\n",
       "      <td>ADT^A03</td>\n",
       "      <td>39867298</td>\n",
       "      <td>_______</td>\n",
       "      <td>______</td>\n",
       "      <td>_</td>\n",
       "      <td>________</td>\n",
       "      <td>F</td>\n",
       "      <td>49660</td>\n",
       "      <td>None</td>\n",
       "      <td>O</td>\n",
       "      <td></td>\n",
       "      <td></td>\n",
       "      <td>20200706182500</td>\n",
       "      <td>20200706190226</td>\n",
       "      <td>J02.0,H10.33</td>\n",
       "    </tr>\n",
       "    <tr>\n",
       "      <th>test-5.hl7</th>\n",
       "      <td>00002.16.840.1.113883.3.1738.2</td>\n",
       "      <td>20200706190228</td>\n",
       "      <td>ADT^A03</td>\n",
       "      <td>39867298</td>\n",
       "      <td>_______</td>\n",
       "      <td>______</td>\n",
       "      <td>_</td>\n",
       "      <td>________</td>\n",
       "      <td>F</td>\n",
       "      <td>49660</td>\n",
       "      <td>None</td>\n",
       "      <td>O</td>\n",
       "      <td></td>\n",
       "      <td></td>\n",
       "      <td>202007065042500</td>\n",
       "      <td>20200704190226</td>\n",
       "      <td>J02.0,H10.33</td>\n",
       "    </tr>\n",
       "  </tbody>\n",
       "</table>\n",
       "</div>"
      ],
      "text/plain": [
       "                             facility_name message_date_time message_type  \\\n",
       "test-6.hl7     02.16.840.1.113883.3.1738.2    20200706190228      ADT^A03   \n",
       "test-4.hl7     99.16.840.1.113883.3.1738.2    20200706190228      ADT^A03   \n",
       "test-5.hl7  00002.16.840.1.113883.3.1738.2    20200706190228      ADT^A03   \n",
       "\n",
       "           control_id last_name first_name middle_name date_of_birth gender  \\\n",
       "test-6.hl7   39867298   _______     ______           _      ________      F   \n",
       "test-4.hl7   39867298   _______     ______           _      ________      F   \n",
       "test-5.hl7   39867298   _______     ______           _      ________      F   \n",
       "\n",
       "           zip_code common_key patient_class service_type admit_source  \\\n",
       "test-6.hl7    49660       None             O                             \n",
       "test-4.hl7    49660       None             O                             \n",
       "test-5.hl7    49660       None             O                             \n",
       "\n",
       "            admit_date_time discharge_date_time                     dx  \n",
       "test-6.hl7   20200702982500      20200707190226  J02.0,H10.33,J30.1,58  \n",
       "test-4.hl7   20200706182500      20200706190226           J02.0,H10.33  \n",
       "test-5.hl7  202007065042500      20200704190226           J02.0,H10.33  "
      ]
     },
     "execution_count": 7,
     "metadata": {},
     "output_type": "execute_result"
    }
   ],
   "source": [
    "df.return_df()"
   ]
  },
  {
   "cell_type": "code",
   "execution_count": null,
   "metadata": {},
   "outputs": [],
   "source": []
  }
 ],
 "metadata": {
  "kernelspec": {
   "display_name": "Python 3",
   "language": "python",
   "name": "python3"
  },
  "language_info": {
   "codemirror_mode": {
    "name": "ipython",
    "version": 3
   },
   "file_extension": ".py",
   "mimetype": "text/x-python",
   "name": "python",
   "nbconvert_exporter": "python",
   "pygments_lexer": "ipython3",
   "version": "3.7.7"
  }
 },
 "nbformat": 4,
 "nbformat_minor": 4
}
